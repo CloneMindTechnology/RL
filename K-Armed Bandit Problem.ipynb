{
 "cells": [
  {
   "cell_type": "code",
   "execution_count": 1,
   "metadata": {
    "collapsed": true
   },
   "outputs": [],
   "source": [
    "#import libs \n",
    "import numpy as np\n",
    "from random import random\n",
    "import matplotlib.pyplot as plt\n",
    "%matplotlib inline"
   ]
  },
  {
   "cell_type": "code",
   "execution_count": 2,
   "metadata": {
    "collapsed": true
   },
   "outputs": [],
   "source": [
    "# Number of Slot Machines\n",
    "n = 10\n",
    "# Probability Factor to select Exploration Implementation\n",
    "# eps below 0.1 will explore\n",
    "# eps above will exploite \n",
    "eps = 0.1"
   ]
  },
  {
   "cell_type": "code",
   "execution_count": 23,
   "metadata": {
    "collapsed": false
   },
   "outputs": [
    {
     "data": {
      "text/plain": [
       "array([ 0.88139646,  0.89839641,  0.60630193,  0.38681185,  0.17009909,\n",
       "        0.3006374 ,  0.75720582,  0.03925704,  0.58731653,  0.58979883])"
      ]
     },
     "execution_count": 23,
     "metadata": {},
     "output_type": "execute_result"
    }
   ],
   "source": [
    "# assign static probability to slot machines\n",
    "arms = np.random.rand(n)\n",
    "arms"
   ]
  },
  {
   "cell_type": "code",
   "execution_count": 74,
   "metadata": {
    "collapsed": true
   },
   "outputs": [],
   "source": [
    "#initialising action value array for the slot machine. \n",
    "action_value = np.ones(n)\n",
    "#counts k for our equation, it shows how often we have chosen action for the slot machine (i)\n",
    "number_of_games = np.zeros(n)"
   ]
  },
  {
   "cell_type": "code",
   "execution_count": 5,
   "metadata": {
    "collapsed": true
   },
   "outputs": [],
   "source": [
    "# Reward function for Game(i) and slot_machine(i)\n",
    "def slot_machine_reward(probability_of_slot_machine):\n",
    "    \"\"\"\n",
    "    Takes the Reward of the slot machine and iterates 10 times to compare with random value,\n",
    "    if random value is smaller then from the slot machine we increment by 1\n",
    "    We iterate 10 times, because we have a maximum output value of $10\n",
    "    \"\"\"\n",
    "    reward = 0\n",
    "    for i in range(10):\n",
    "        if random() <= probability_of_slot_machine:\n",
    "            reward += 1\n",
    "    return reward"
   ]
  },
  {
   "cell_type": "code",
   "execution_count": 19,
   "metadata": {
    "collapsed": false
   },
   "outputs": [
    {
     "data": {
      "text/plain": [
       "4"
      ]
     },
     "execution_count": 19,
     "metadata": {},
     "output_type": "execute_result"
    }
   ],
   "source": [
    "#test of slot_machine_reward(probability_of_slot_machine):\n",
    "slot_machine_reward(arms[2])"
   ]
  },
  {
   "cell_type": "code",
   "execution_count": 46,
   "metadata": {
    "collapsed": false
   },
   "outputs": [],
   "source": [
    "# Calculating Greedy Method - Selecting the Best known Slot Machine\n",
    "def best_slot_machine(slot_machines):\n",
    "    \"\"\"\n",
    "    Input Array of mean expected reward values of known slot machines\n",
    "    and return the index of the highest value\n",
    "    \"\"\"\n",
    "    return np.argmax(slot_machines)"
   ]
  },
  {
   "cell_type": "code",
   "execution_count": 47,
   "metadata": {
    "collapsed": true
   },
   "outputs": [],
   "source": [
    "def calculate_new_average_reward(index):\n",
    "    \"\"\"\n",
    "    Calculating new expected mean reward\n",
    "    \"\"\"\n",
    "    #Calculate the current reward\n",
    "    reward = slot_machine_reward(arms[index])\n",
    "    # increment the number of games for slot machine [i]\n",
    "    number_of_games[index] += 1\n",
    "    # assign that value to total number of played games \n",
    "    k = number_of_games[index]\n",
    "    #getting old average value\n",
    "    old_average = action_value[index]\n",
    "    #calculating new expected mean reward and overide the action value\n",
    "    action_value[index] = old_average + (1/k)*(reward - old_average)   "
   ]
  },
  {
   "cell_type": "code",
   "execution_count": 75,
   "metadata": {
    "collapsed": false
   },
   "outputs": [
    {
     "data": {
      "text/plain": [
       "1"
      ]
     },
     "execution_count": 75,
     "metadata": {},
     "output_type": "execute_result"
    },
    {
     "data": {
      "image/png": "[encoded data removed]",
      "text/plain": [
       "<matplotlib.figure.Figure at 0x285e15db198>"
      ]
     },
     "metadata": {},
     "output_type": "display_data"
    }
   ],
   "source": [
    "# Drawing the Results of Mean Rewards\n",
    "plt.xlabel(\"Games Played\")\n",
    "plt.ylabel(\"Mean Max. Reward\")\n",
    "\n",
    "for i in range(500):\n",
    "    # Exploitation Method\n",
    "    if random() > eps:\n",
    "        #Select the best slot machine\n",
    "        index = best_slot_machine(action_value)\n",
    "        calculate_new_average_reward(index)\n",
    "    # Exploration Method\n",
    "    else:\n",
    "        # select random slot machine\n",
    "        index = np.where(np.random.choice(arms) == arms)[0][0]\n",
    "        calculate_new_average_reward(index)      \n",
    "        \n",
    "    running_avr = np.average(action_value, weights=np.array([number_of_games[j]/np.sum(number_of_games) for j in range(n)]))\n",
    "    #plt.scatter(i, action_value[best_slot_machine(action_value)] )\n",
    "    plt.scatter(i, running_avr)\n",
    "best_slot_machine(action_value)"
   ]
  },
  {
   "cell_type": "code",
   "execution_count": 76,
   "metadata": {
    "collapsed": false
   },
   "outputs": [
    {
     "data": {
      "text/plain": [
       "1"
      ]
     },
     "execution_count": 76,
     "metadata": {},
     "output_type": "execute_result"
    }
   ],
   "source": [
    "best_slot_machine(action_value)"
   ]
  }
 ],
 "metadata": {
  "kernelspec": {
   "display_name": "Python 3",
   "language": "python",
   "name": "python3"
  },
  "language_info": {
   "codemirror_mode": {
    "name": "ipython",
    "version": 3
   },
   "file_extension": ".py",
   "mimetype": "text/x-python",
   "name": "python",
   "nbconvert_exporter": "python",
   "pygments_lexer": "ipython3",
   "version": "3.6.0"
  }
 },
 "nbformat": 4,
 "nbformat_minor": 2
}
